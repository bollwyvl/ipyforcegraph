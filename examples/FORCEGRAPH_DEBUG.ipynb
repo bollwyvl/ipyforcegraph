{
 "cells": [
  {
   "cell_type": "markdown",
   "id": "d83e3ede-1f50-4809-a022-da54007a762e",
   "metadata": {},
   "source": [
    "# 🐛 Debugging with `FORCEGRAPH_DEBUG`\n",
    "\n",
    "If `FORCEGRAPH_DEBUG` is found in the URL when JupyterLab starts, more info will become\n",
    "available in the browser console."
   ]
  },
  {
   "cell_type": "code",
   "execution_count": null,
   "id": "1da0fbb3-1837-4f12-8ca8-fc7be114597d",
   "metadata": {},
   "outputs": [],
   "source": [
    "import random\n",
    "\n",
    "import ipywidgets as W\n",
    "import networkx as nx\n",
    "import numpy as np\n",
    "\n",
    "from ipyforcegraph.forcegraph import ForceGraph"
   ]
  },
  {
   "cell_type": "code",
   "execution_count": null,
   "id": "8377b0ba-dacf-494c-8cd9-1b0992abd461",
   "metadata": {
    "tags": []
   },
   "outputs": [],
   "source": [
    "fg = ForceGraph()\n",
    "fg"
   ]
  },
  {
   "cell_type": "code",
   "execution_count": null,
   "id": "b6fd89a4-d869-4ec9-849c-3747cb038468",
   "metadata": {},
   "outputs": [],
   "source": [
    "atlas = nx.graph_atlas_g()\n",
    "\n",
    "\n",
    "def update_graph(i=None):\n",
    "    G = atlas[i if i is not None else random.randint(0, len(atlas))]\n",
    "    fg.source.nodes.array = np.array(G.nodes, dtype=np.int32)\n",
    "    fg.source.links.array = np.array(G.edges, dtype=np.int32)"
   ]
  },
  {
   "cell_type": "code",
   "execution_count": null,
   "id": "ca340789-9b0a-4d27-91fa-520dda665b22",
   "metadata": {},
   "outputs": [],
   "source": [
    "@W.interact\n",
    "def g(i=(0, 1000)):\n",
    "    update_graph(i)"
   ]
  }
 ],
 "metadata": {
  "kernelspec": {
   "display_name": "Python 3 (ipykernel)",
   "language": "python",
   "name": "python3"
  },
  "language_info": {
   "codemirror_mode": {
    "name": "ipython",
    "version": 3
   },
   "file_extension": ".py",
   "mimetype": "text/x-python",
   "name": "python",
   "nbconvert_exporter": "python",
   "pygments_lexer": "ipython3",
   "version": "3.11.0"
  }
 },
 "nbformat": 4,
 "nbformat_minor": 5
}
