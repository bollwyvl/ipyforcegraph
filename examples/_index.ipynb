{
 "cells": [
  {
   "cell_type": "markdown",
   "metadata": {},
   "source": [
    "# IPyForceGraph 🚀"
   ]
  },
  {
   "cell_type": "code",
   "execution_count": null,
   "metadata": {},
   "outputs": [],
   "source": [
    "if __name__ == \"__main__\":\n",
    "    %pip install -q -r requirements.txt"
   ]
  },
  {
   "cell_type": "code",
   "execution_count": null,
   "metadata": {},
   "outputs": [],
   "source": [
    "import json\n",
    "from pathlib import Path\n",
    "\n",
    "import ipywidgets as W\n",
    "import numpy as np\n",
    "\n",
    "import ipyforcegraph.forcegraph"
   ]
  },
  {
   "cell_type": "markdown",
   "metadata": {},
   "source": [
    "## Using `ndarray`s\n",
    "\n",
    "We have some sample data in various formats. In its simplest form, `ForceGraph` will\n",
    "only use NumPy `ndarray`s for its source data."
   ]
  },
  {
   "cell_type": "code",
   "execution_count": null,
   "metadata": {},
   "outputs": [],
   "source": [
    "data = json.loads(Path(\"datasets/miserables.json\").read_text())"
   ]
  },
  {
   "cell_type": "code",
   "execution_count": null,
   "metadata": {},
   "outputs": [],
   "source": [
    "data[\"nodes\"][0]"
   ]
  },
  {
   "cell_type": "code",
   "execution_count": null,
   "metadata": {},
   "outputs": [],
   "source": [
    "node_ids = [n[\"id\"] for n in data[\"nodes\"]]\n",
    "links = [\n",
    "    [node_ids.index(l[\"source\"]), node_ids.index(l[\"target\"])] for l in data[\"links\"]\n",
    "]"
   ]
  },
  {
   "cell_type": "code",
   "execution_count": null,
   "metadata": {},
   "outputs": [],
   "source": [
    "fg = ipyforcegraph.forcegraph.ForceGraph()\n",
    "fg.source.nodes.array = np.linspace(0, len(data[\"nodes\"]), dtype=np.int32)\n",
    "fg.source.links.array = np.array(links, dtype=np.int32)\n",
    "fg"
   ]
  },
  {
   "cell_type": "markdown",
   "metadata": {},
   "source": [
    "# Read more\n",
    "\n",
    "- [👟 Behaviors](./Behaviors.ipynb)\n",
    "- [🐛 Debugging with `FORCEGRAPH_DEBUG`](./FORCEGRAPH_DEBUG.ipynb)"
   ]
  }
 ],
 "metadata": {
  "kernelspec": {
   "display_name": "Python 3 (ipykernel)",
   "language": "python",
   "name": "python3"
  },
  "language_info": {
   "codemirror_mode": {
    "name": "ipython",
    "version": 3
   },
   "file_extension": ".py",
   "mimetype": "text/x-python",
   "name": "python",
   "nbconvert_exporter": "python",
   "pygments_lexer": "ipython3",
   "version": "3.11.0"
  }
 },
 "nbformat": 4,
 "nbformat_minor": 4
}
